{
 "cells": [
  {
   "cell_type": "markdown",
   "id": "recorded-outside",
   "metadata": {},
   "source": [
    "## Лабораторная работа 5. Часть 2."
   ]
  },
  {
   "cell_type": "code",
   "execution_count": 1,
   "id": "novel-miracle",
   "metadata": {},
   "outputs": [],
   "source": [
    "import numpy as np\n",
    "import pandas as pd\n",
    "import scipy.stats as sps\n",
    "from scipy.special import expit\n",
    "\n",
    "import matplotlib.pyplot as plt\n",
    "import seaborn as sns\n",
    "\n",
    "from sklearn.datasets import load_breast_cancer\n",
    "from sklearn.preprocessing import StandardScaler\n",
    "from sklearn.model_selection import train_test_split\n",
    "\n",
    "import warnings\n",
    "warnings.filterwarnings('ignore')\n",
    "\n",
    "%matplotlib inline\n",
    "sns.set_style(\"dark\")\n",
    "sns.set(font_scale=1.6)"
   ]
  },
  {
   "cell_type": "markdown",
   "id": "billion-gnome",
   "metadata": {},
   "source": [
    "## Задача 1\n",
    "\n",
    "Реализуйте логистическую регрессию с $\\ell_2$ регуляризацией для поиска оценки параметров с помощью стохастического mini-batch градиентного спуска (SGD)."
   ]
  },
  {
   "cell_type": "code",
   "execution_count": 13,
   "id": "interested-backup",
   "metadata": {
    "colab": {},
    "colab_type": "code",
    "id": "d4xxxebKnQLm"
   },
   "outputs": [],
   "source": [
    "class LogisticRegression():\n",
    "    '''\n",
    "    Модель логистической регрессии. Имеет следующие гиперпараметры:\n",
    "\n",
    "    :param alpha: параметр регуляризации. \n",
    "                  Если равно 0, то регуляризация не происходит.\n",
    "    :param lr: константа, на которую домножаем градиент при обучении\n",
    "    :param max_iter: ограничение на кол-во итераций\n",
    "    :param fit_intercept: указывает, следует ли добавить константу в признаки\n",
    "    '''\n",
    "\n",
    "    def __init__(self, alpha=0, lr=0.5, max_iter=1e5,\n",
    "                 fit_intercept=True):\n",
    "        '''Создает модель и инициализирует параметры.'''\n",
    "\n",
    "        self.alpha = alpha\n",
    "        self.lr = lr\n",
    "        self.max_iter = max_iter\n",
    "        self.fit_intercept = fit_intercept\n",
    "\n",
    "    @staticmethod\n",
    "    def _sigmoid(x):\n",
    "        import scipy\n",
    "        \n",
    "        return scipy.special.expit(x)\n",
    "\n",
    "    def _add_intercept(self, X): # Почему-то Ваша реализация у еня работала не правильно. X_copy была совсем не похожа на X,\n",
    "        # поэтому я изменил код. Благодаря этому выросло качество, а также получились нормальные результаты в задании с выбором\n",
    "        # наилучшего lr (до этого было lr = 100, что очень странно)\n",
    "        '''\n",
    "        Добавляем свободный коэффициент к нашей модели. \n",
    "        Это происходит путем добавления вектора из 1 к исходной матрице.\n",
    "\n",
    "        :param X: исходная матрица признаков\n",
    "        :return: матрица X с добавленным свободным коэффициентов\n",
    "        '''\n",
    "\n",
    "        X_copy = np.hstack((X, np.ones(X.shape[0]).reshape(-1,1)))\n",
    "        # X_copy = np.full((X.shape[0], X.shape[1] + 1), fill_value=1)\n",
    "        # X_copy[:, :-1] = X\n",
    "\n",
    "        return X_copy\n",
    "\n",
    "    def fit(self, X, Y):\n",
    "        '''\n",
    "        Обучает модель логистической регресии с помощью SGD,\n",
    "        пока не выполнится self.max_iter итераций.\n",
    "\n",
    "        :param X: матрица признаков\n",
    "        :param Y: истинные метки\n",
    "        '''\n",
    "\n",
    "        assert X.shape[0] == Y.shape[0]\n",
    "\n",
    "        if self.fit_intercept:  # добавляем свободный коэфициент\n",
    "            X_copy = self._add_intercept(X)\n",
    "        else:\n",
    "            X_copy = X.copy()\n",
    "            \n",
    "        step = 0\n",
    "        self.batch_size = 64 # установим батч size\n",
    "        self.weights = np.random.normal(0, 1, (X_copy.shape[1]))\n",
    "        while step < self.max_iter:\n",
    "            # разбиваем на батчи\n",
    "            batch_indices = np.random.choice(X_copy.shape[0], size=self.batch_size, replace=False)\n",
    "            batch = X_copy[batch_indices]\n",
    "            \n",
    "            grad_w = (1 / self.batch_size) * batch.T.dot(Y[batch_indices] - self._sigmoid(batch.dot(self.weights.T))) # считаем градиент\n",
    "            for_regularization = self.weights\n",
    "            if self.fit_intercept:\n",
    "                for_regularization[-1] = 0  # так как мы не регуляризуем свободный член\n",
    "            # print(self.weights)\n",
    "            self.weights = self.weights + self.lr * (grad_w - 2 * self.alpha * for_regularization) # делаем шаг SGD\n",
    "            step += 1\n",
    "\n",
    "        self.coef_ = self.weights[:-1]  # коэффициенты модели\n",
    "        self.intercept_ = self.weights[-1]  # свободный коэффициент\n",
    "        # self.weights состоит из коэффициентов модели и свободного члена\n",
    "        return self\n",
    "\n",
    "    def predict(self, X):\n",
    "        '''\n",
    "        Применяет обученную модель к данным \n",
    "        и возвращает точечное предсказание (оценку класса).\n",
    "\n",
    "        :param X: матрица признаков\n",
    "        :return: предсказание с размерностью (n_test, )\n",
    "        '''\n",
    "\n",
    "        if self.fit_intercept:\n",
    "            X_copy = self._add_intercept(X)\n",
    "        else:\n",
    "            X_copy = X.copy()\n",
    "\n",
    "        assert X_copy.shape[1] == self.weights.shape[0]\n",
    "\n",
    "        predictions = np.sign(X_copy.dot(np.append(self.coef_, self.intercept_).T))\n",
    "        predictions[predictions == -1] = 0\n",
    "\n",
    "        return predictions\n",
    "\n",
    "    def predict_proba(self, X):\n",
    "        '''\n",
    "        Применяет обученную модель к данным\n",
    "        и возвращает предсказание вероятности классов 0 и 1.\n",
    "\n",
    "        :param X: матрица признаков\n",
    "        :return: вероятности предсказания с размерностью (n_test, 2)\n",
    "        '''\n",
    "\n",
    "        if self.fit_intercept:\n",
    "            X_copy = self._add_intercept(X)\n",
    "        else:\n",
    "            X_copy = X.copy()\n",
    "\n",
    "        assert X_copy.shape[1] == self.weights.shape[0]\n",
    "        \n",
    "        prob_predictions = np.array([])\n",
    "        plus = self._sigmoid(X_copy.dot(np.append(self.coef_,self.intercept_).T))\n",
    "        minus = self._sigmoid(-X_copy.dot(np.append(self.coef_,self.intercept_).T))\n",
    "        prob_predictions = np.vstack((plus, minus)).T\n",
    "\n",
    "        return prob_predictions"
   ]
  },
  {
   "cell_type": "code",
   "execution_count": 17,
   "id": "1deacb93",
   "metadata": {},
   "outputs": [
    {
     "data": {
      "text/plain": [
       "array([[1, 3],\n",
       "       [2, 4],\n",
       "       [3, 5],\n",
       "       [4, 7]])"
      ]
     },
     "execution_count": 17,
     "metadata": {},
     "output_type": "execute_result"
    }
   ],
   "source": [
    "a = np.array([1,2,3,4])\n",
    "b = np.array([3,4,5,7])\n",
    "c = np.array([])\n",
    "c = np.vstack((a,b))\n",
    "c.T"
   ]
  },
  {
   "cell_type": "code",
   "execution_count": 18,
   "id": "819e9631",
   "metadata": {},
   "outputs": [
    {
     "data": {
      "text/plain": [
       "(4, 2)"
      ]
     },
     "execution_count": 18,
     "metadata": {},
     "output_type": "execute_result"
    }
   ],
   "source": [
    "c.T.shape"
   ]
  },
  {
   "cell_type": "markdown",
   "id": "rocky-adrian",
   "metadata": {},
   "source": [
    "Рассмотрим игрушечный датасет на $30$ признаков `load_breast_cancer` из библиотеки `sklearn`. Это относительно простой для бинарной классификации датасет по диагностике рака молочной железы."
   ]
  },
  {
   "cell_type": "markdown",
   "id": "organized-request",
   "metadata": {
    "colab_type": "text",
    "id": "HHPTpzcWhv_W"
   },
   "source": [
    "Ради интереса можно прочитать описание признаков."
   ]
  },
  {
   "cell_type": "code",
   "execution_count": 3,
   "id": "anonymous-raising",
   "metadata": {
    "colab": {
     "base_uri": "https://localhost:8080/",
     "height": 372
    },
    "colab_type": "code",
    "id": "uUMbGPj-Fgfi",
    "outputId": "9b6b8f4b-d90a-42d7-d6d7-880c5853a33c"
   },
   "outputs": [
    {
     "data": {
      "text/plain": [
       "['    :Attribute Information:',\n",
       " '        - radius (mean of distances from center to points on the perimeter)',\n",
       " '        - texture (standard deviation of gray-scale values)',\n",
       " '        - perimeter',\n",
       " '        - area',\n",
       " '        - smoothness (local variation in radius lengths)',\n",
       " '        - compactness (perimeter^2 / area - 1.0)',\n",
       " '        - concavity (severity of concave portions of the contour)',\n",
       " '        - concave points (number of concave portions of the contour)',\n",
       " '        - symmetry',\n",
       " '        - fractal dimension (\"coastline approximation\" - 1)',\n",
       " '',\n",
       " '        The mean, standard error, and \"worst\" or largest (mean of the three',\n",
       " '        worst/largest values) of these features were computed for each image,',\n",
       " '        resulting in 30 features.  For instance, field 0 is Mean Radius, field',\n",
       " '        10 is Radius SE, field 20 is Worst Radius.',\n",
       " '',\n",
       " '        - class:',\n",
       " '                - WDBC-Malignant',\n",
       " '                - WDBC-Benign']"
      ]
     },
     "execution_count": 3,
     "metadata": {},
     "output_type": "execute_result"
    }
   ],
   "source": [
    "dataset = load_breast_cancer()\n",
    "dataset['DESCR'].split('\\n')[11:31]"
   ]
  },
  {
   "cell_type": "markdown",
   "id": "dental-intersection",
   "metadata": {
    "colab_type": "text",
    "id": "JgaXPncW-Gab"
   },
   "source": [
    "Разделим нашу выборку на обучающую и тестовую:"
   ]
  },
  {
   "cell_type": "code",
   "execution_count": 4,
   "id": "otherwise-savage",
   "metadata": {
    "colab": {
     "base_uri": "https://localhost:8080/",
     "height": 34
    },
    "colab_type": "code",
    "id": "WEn6HImRc8zJ",
    "outputId": "9c25a5a2-4ea6-4e33-c9be-b780470fbbbb"
   },
   "outputs": [
    {
     "data": {
      "text/plain": [
       "((455, 30), (114, 30), (455,), (114,))"
      ]
     },
     "execution_count": 4,
     "metadata": {},
     "output_type": "execute_result"
    }
   ],
   "source": [
    "X, Y = dataset['data'], dataset['target']\n",
    "\n",
    "X_train, X_test, Y_train, Y_test = train_test_split(\n",
    "    X, Y, test_size=0.2, random_state=42\n",
    ")\n",
    "X_train.shape, X_test.shape, Y_train.shape, Y_test.shape"
   ]
  },
  {
   "cell_type": "code",
   "execution_count": 5,
   "id": "ee4d7997",
   "metadata": {},
   "outputs": [
    {
     "data": {
      "text/html": [
       "<div>\n",
       "<style scoped>\n",
       "    .dataframe tbody tr th:only-of-type {\n",
       "        vertical-align: middle;\n",
       "    }\n",
       "\n",
       "    .dataframe tbody tr th {\n",
       "        vertical-align: top;\n",
       "    }\n",
       "\n",
       "    .dataframe thead th {\n",
       "        text-align: right;\n",
       "    }\n",
       "</style>\n",
       "<table border=\"1\" class=\"dataframe\">\n",
       "  <thead>\n",
       "    <tr style=\"text-align: right;\">\n",
       "      <th></th>\n",
       "      <th>mean radius</th>\n",
       "      <th>mean texture</th>\n",
       "      <th>mean perimeter</th>\n",
       "      <th>mean area</th>\n",
       "      <th>mean smoothness</th>\n",
       "      <th>mean compactness</th>\n",
       "      <th>mean concavity</th>\n",
       "      <th>mean concave points</th>\n",
       "      <th>mean symmetry</th>\n",
       "      <th>mean fractal dimension</th>\n",
       "      <th>...</th>\n",
       "      <th>worst radius</th>\n",
       "      <th>worst texture</th>\n",
       "      <th>worst perimeter</th>\n",
       "      <th>worst area</th>\n",
       "      <th>worst smoothness</th>\n",
       "      <th>worst compactness</th>\n",
       "      <th>worst concavity</th>\n",
       "      <th>worst concave points</th>\n",
       "      <th>worst symmetry</th>\n",
       "      <th>worst fractal dimension</th>\n",
       "    </tr>\n",
       "  </thead>\n",
       "  <tbody>\n",
       "    <tr>\n",
       "      <th>0</th>\n",
       "      <td>17.99</td>\n",
       "      <td>10.38</td>\n",
       "      <td>122.80</td>\n",
       "      <td>1001.0</td>\n",
       "      <td>0.11840</td>\n",
       "      <td>0.27760</td>\n",
       "      <td>0.30010</td>\n",
       "      <td>0.14710</td>\n",
       "      <td>0.2419</td>\n",
       "      <td>0.07871</td>\n",
       "      <td>...</td>\n",
       "      <td>25.380</td>\n",
       "      <td>17.33</td>\n",
       "      <td>184.60</td>\n",
       "      <td>2019.0</td>\n",
       "      <td>0.16220</td>\n",
       "      <td>0.66560</td>\n",
       "      <td>0.7119</td>\n",
       "      <td>0.2654</td>\n",
       "      <td>0.4601</td>\n",
       "      <td>0.11890</td>\n",
       "    </tr>\n",
       "    <tr>\n",
       "      <th>1</th>\n",
       "      <td>20.57</td>\n",
       "      <td>17.77</td>\n",
       "      <td>132.90</td>\n",
       "      <td>1326.0</td>\n",
       "      <td>0.08474</td>\n",
       "      <td>0.07864</td>\n",
       "      <td>0.08690</td>\n",
       "      <td>0.07017</td>\n",
       "      <td>0.1812</td>\n",
       "      <td>0.05667</td>\n",
       "      <td>...</td>\n",
       "      <td>24.990</td>\n",
       "      <td>23.41</td>\n",
       "      <td>158.80</td>\n",
       "      <td>1956.0</td>\n",
       "      <td>0.12380</td>\n",
       "      <td>0.18660</td>\n",
       "      <td>0.2416</td>\n",
       "      <td>0.1860</td>\n",
       "      <td>0.2750</td>\n",
       "      <td>0.08902</td>\n",
       "    </tr>\n",
       "    <tr>\n",
       "      <th>2</th>\n",
       "      <td>19.69</td>\n",
       "      <td>21.25</td>\n",
       "      <td>130.00</td>\n",
       "      <td>1203.0</td>\n",
       "      <td>0.10960</td>\n",
       "      <td>0.15990</td>\n",
       "      <td>0.19740</td>\n",
       "      <td>0.12790</td>\n",
       "      <td>0.2069</td>\n",
       "      <td>0.05999</td>\n",
       "      <td>...</td>\n",
       "      <td>23.570</td>\n",
       "      <td>25.53</td>\n",
       "      <td>152.50</td>\n",
       "      <td>1709.0</td>\n",
       "      <td>0.14440</td>\n",
       "      <td>0.42450</td>\n",
       "      <td>0.4504</td>\n",
       "      <td>0.2430</td>\n",
       "      <td>0.3613</td>\n",
       "      <td>0.08758</td>\n",
       "    </tr>\n",
       "    <tr>\n",
       "      <th>3</th>\n",
       "      <td>11.42</td>\n",
       "      <td>20.38</td>\n",
       "      <td>77.58</td>\n",
       "      <td>386.1</td>\n",
       "      <td>0.14250</td>\n",
       "      <td>0.28390</td>\n",
       "      <td>0.24140</td>\n",
       "      <td>0.10520</td>\n",
       "      <td>0.2597</td>\n",
       "      <td>0.09744</td>\n",
       "      <td>...</td>\n",
       "      <td>14.910</td>\n",
       "      <td>26.50</td>\n",
       "      <td>98.87</td>\n",
       "      <td>567.7</td>\n",
       "      <td>0.20980</td>\n",
       "      <td>0.86630</td>\n",
       "      <td>0.6869</td>\n",
       "      <td>0.2575</td>\n",
       "      <td>0.6638</td>\n",
       "      <td>0.17300</td>\n",
       "    </tr>\n",
       "    <tr>\n",
       "      <th>4</th>\n",
       "      <td>20.29</td>\n",
       "      <td>14.34</td>\n",
       "      <td>135.10</td>\n",
       "      <td>1297.0</td>\n",
       "      <td>0.10030</td>\n",
       "      <td>0.13280</td>\n",
       "      <td>0.19800</td>\n",
       "      <td>0.10430</td>\n",
       "      <td>0.1809</td>\n",
       "      <td>0.05883</td>\n",
       "      <td>...</td>\n",
       "      <td>22.540</td>\n",
       "      <td>16.67</td>\n",
       "      <td>152.20</td>\n",
       "      <td>1575.0</td>\n",
       "      <td>0.13740</td>\n",
       "      <td>0.20500</td>\n",
       "      <td>0.4000</td>\n",
       "      <td>0.1625</td>\n",
       "      <td>0.2364</td>\n",
       "      <td>0.07678</td>\n",
       "    </tr>\n",
       "    <tr>\n",
       "      <th>...</th>\n",
       "      <td>...</td>\n",
       "      <td>...</td>\n",
       "      <td>...</td>\n",
       "      <td>...</td>\n",
       "      <td>...</td>\n",
       "      <td>...</td>\n",
       "      <td>...</td>\n",
       "      <td>...</td>\n",
       "      <td>...</td>\n",
       "      <td>...</td>\n",
       "      <td>...</td>\n",
       "      <td>...</td>\n",
       "      <td>...</td>\n",
       "      <td>...</td>\n",
       "      <td>...</td>\n",
       "      <td>...</td>\n",
       "      <td>...</td>\n",
       "      <td>...</td>\n",
       "      <td>...</td>\n",
       "      <td>...</td>\n",
       "      <td>...</td>\n",
       "    </tr>\n",
       "    <tr>\n",
       "      <th>564</th>\n",
       "      <td>21.56</td>\n",
       "      <td>22.39</td>\n",
       "      <td>142.00</td>\n",
       "      <td>1479.0</td>\n",
       "      <td>0.11100</td>\n",
       "      <td>0.11590</td>\n",
       "      <td>0.24390</td>\n",
       "      <td>0.13890</td>\n",
       "      <td>0.1726</td>\n",
       "      <td>0.05623</td>\n",
       "      <td>...</td>\n",
       "      <td>25.450</td>\n",
       "      <td>26.40</td>\n",
       "      <td>166.10</td>\n",
       "      <td>2027.0</td>\n",
       "      <td>0.14100</td>\n",
       "      <td>0.21130</td>\n",
       "      <td>0.4107</td>\n",
       "      <td>0.2216</td>\n",
       "      <td>0.2060</td>\n",
       "      <td>0.07115</td>\n",
       "    </tr>\n",
       "    <tr>\n",
       "      <th>565</th>\n",
       "      <td>20.13</td>\n",
       "      <td>28.25</td>\n",
       "      <td>131.20</td>\n",
       "      <td>1261.0</td>\n",
       "      <td>0.09780</td>\n",
       "      <td>0.10340</td>\n",
       "      <td>0.14400</td>\n",
       "      <td>0.09791</td>\n",
       "      <td>0.1752</td>\n",
       "      <td>0.05533</td>\n",
       "      <td>...</td>\n",
       "      <td>23.690</td>\n",
       "      <td>38.25</td>\n",
       "      <td>155.00</td>\n",
       "      <td>1731.0</td>\n",
       "      <td>0.11660</td>\n",
       "      <td>0.19220</td>\n",
       "      <td>0.3215</td>\n",
       "      <td>0.1628</td>\n",
       "      <td>0.2572</td>\n",
       "      <td>0.06637</td>\n",
       "    </tr>\n",
       "    <tr>\n",
       "      <th>566</th>\n",
       "      <td>16.60</td>\n",
       "      <td>28.08</td>\n",
       "      <td>108.30</td>\n",
       "      <td>858.1</td>\n",
       "      <td>0.08455</td>\n",
       "      <td>0.10230</td>\n",
       "      <td>0.09251</td>\n",
       "      <td>0.05302</td>\n",
       "      <td>0.1590</td>\n",
       "      <td>0.05648</td>\n",
       "      <td>...</td>\n",
       "      <td>18.980</td>\n",
       "      <td>34.12</td>\n",
       "      <td>126.70</td>\n",
       "      <td>1124.0</td>\n",
       "      <td>0.11390</td>\n",
       "      <td>0.30940</td>\n",
       "      <td>0.3403</td>\n",
       "      <td>0.1418</td>\n",
       "      <td>0.2218</td>\n",
       "      <td>0.07820</td>\n",
       "    </tr>\n",
       "    <tr>\n",
       "      <th>567</th>\n",
       "      <td>20.60</td>\n",
       "      <td>29.33</td>\n",
       "      <td>140.10</td>\n",
       "      <td>1265.0</td>\n",
       "      <td>0.11780</td>\n",
       "      <td>0.27700</td>\n",
       "      <td>0.35140</td>\n",
       "      <td>0.15200</td>\n",
       "      <td>0.2397</td>\n",
       "      <td>0.07016</td>\n",
       "      <td>...</td>\n",
       "      <td>25.740</td>\n",
       "      <td>39.42</td>\n",
       "      <td>184.60</td>\n",
       "      <td>1821.0</td>\n",
       "      <td>0.16500</td>\n",
       "      <td>0.86810</td>\n",
       "      <td>0.9387</td>\n",
       "      <td>0.2650</td>\n",
       "      <td>0.4087</td>\n",
       "      <td>0.12400</td>\n",
       "    </tr>\n",
       "    <tr>\n",
       "      <th>568</th>\n",
       "      <td>7.76</td>\n",
       "      <td>24.54</td>\n",
       "      <td>47.92</td>\n",
       "      <td>181.0</td>\n",
       "      <td>0.05263</td>\n",
       "      <td>0.04362</td>\n",
       "      <td>0.00000</td>\n",
       "      <td>0.00000</td>\n",
       "      <td>0.1587</td>\n",
       "      <td>0.05884</td>\n",
       "      <td>...</td>\n",
       "      <td>9.456</td>\n",
       "      <td>30.37</td>\n",
       "      <td>59.16</td>\n",
       "      <td>268.6</td>\n",
       "      <td>0.08996</td>\n",
       "      <td>0.06444</td>\n",
       "      <td>0.0000</td>\n",
       "      <td>0.0000</td>\n",
       "      <td>0.2871</td>\n",
       "      <td>0.07039</td>\n",
       "    </tr>\n",
       "  </tbody>\n",
       "</table>\n",
       "<p>569 rows × 30 columns</p>\n",
       "</div>"
      ],
      "text/plain": [
       "     mean radius  mean texture  mean perimeter  mean area  mean smoothness  \\\n",
       "0          17.99         10.38          122.80     1001.0          0.11840   \n",
       "1          20.57         17.77          132.90     1326.0          0.08474   \n",
       "2          19.69         21.25          130.00     1203.0          0.10960   \n",
       "3          11.42         20.38           77.58      386.1          0.14250   \n",
       "4          20.29         14.34          135.10     1297.0          0.10030   \n",
       "..           ...           ...             ...        ...              ...   \n",
       "564        21.56         22.39          142.00     1479.0          0.11100   \n",
       "565        20.13         28.25          131.20     1261.0          0.09780   \n",
       "566        16.60         28.08          108.30      858.1          0.08455   \n",
       "567        20.60         29.33          140.10     1265.0          0.11780   \n",
       "568         7.76         24.54           47.92      181.0          0.05263   \n",
       "\n",
       "     mean compactness  mean concavity  mean concave points  mean symmetry  \\\n",
       "0             0.27760         0.30010              0.14710         0.2419   \n",
       "1             0.07864         0.08690              0.07017         0.1812   \n",
       "2             0.15990         0.19740              0.12790         0.2069   \n",
       "3             0.28390         0.24140              0.10520         0.2597   \n",
       "4             0.13280         0.19800              0.10430         0.1809   \n",
       "..                ...             ...                  ...            ...   \n",
       "564           0.11590         0.24390              0.13890         0.1726   \n",
       "565           0.10340         0.14400              0.09791         0.1752   \n",
       "566           0.10230         0.09251              0.05302         0.1590   \n",
       "567           0.27700         0.35140              0.15200         0.2397   \n",
       "568           0.04362         0.00000              0.00000         0.1587   \n",
       "\n",
       "     mean fractal dimension  ...  worst radius  worst texture  \\\n",
       "0                   0.07871  ...        25.380          17.33   \n",
       "1                   0.05667  ...        24.990          23.41   \n",
       "2                   0.05999  ...        23.570          25.53   \n",
       "3                   0.09744  ...        14.910          26.50   \n",
       "4                   0.05883  ...        22.540          16.67   \n",
       "..                      ...  ...           ...            ...   \n",
       "564                 0.05623  ...        25.450          26.40   \n",
       "565                 0.05533  ...        23.690          38.25   \n",
       "566                 0.05648  ...        18.980          34.12   \n",
       "567                 0.07016  ...        25.740          39.42   \n",
       "568                 0.05884  ...         9.456          30.37   \n",
       "\n",
       "     worst perimeter  worst area  worst smoothness  worst compactness  \\\n",
       "0             184.60      2019.0           0.16220            0.66560   \n",
       "1             158.80      1956.0           0.12380            0.18660   \n",
       "2             152.50      1709.0           0.14440            0.42450   \n",
       "3              98.87       567.7           0.20980            0.86630   \n",
       "4             152.20      1575.0           0.13740            0.20500   \n",
       "..               ...         ...               ...                ...   \n",
       "564           166.10      2027.0           0.14100            0.21130   \n",
       "565           155.00      1731.0           0.11660            0.19220   \n",
       "566           126.70      1124.0           0.11390            0.30940   \n",
       "567           184.60      1821.0           0.16500            0.86810   \n",
       "568            59.16       268.6           0.08996            0.06444   \n",
       "\n",
       "     worst concavity  worst concave points  worst symmetry  \\\n",
       "0             0.7119                0.2654          0.4601   \n",
       "1             0.2416                0.1860          0.2750   \n",
       "2             0.4504                0.2430          0.3613   \n",
       "3             0.6869                0.2575          0.6638   \n",
       "4             0.4000                0.1625          0.2364   \n",
       "..               ...                   ...             ...   \n",
       "564           0.4107                0.2216          0.2060   \n",
       "565           0.3215                0.1628          0.2572   \n",
       "566           0.3403                0.1418          0.2218   \n",
       "567           0.9387                0.2650          0.4087   \n",
       "568           0.0000                0.0000          0.2871   \n",
       "\n",
       "     worst fractal dimension  \n",
       "0                    0.11890  \n",
       "1                    0.08902  \n",
       "2                    0.08758  \n",
       "3                    0.17300  \n",
       "4                    0.07678  \n",
       "..                       ...  \n",
       "564                  0.07115  \n",
       "565                  0.06637  \n",
       "566                  0.07820  \n",
       "567                  0.12400  \n",
       "568                  0.07039  \n",
       "\n",
       "[569 rows x 30 columns]"
      ]
     },
     "execution_count": 5,
     "metadata": {},
     "output_type": "execute_result"
    }
   ],
   "source": [
    "X_DataFrame = pd.DataFrame(dataset['data'], columns = dataset['feature_names'])\n",
    "X_DataFrame"
   ]
  },
  {
   "cell_type": "code",
   "execution_count": 6,
   "id": "630ab9ec",
   "metadata": {},
   "outputs": [
    {
     "data": {
      "text/plain": [
       "array([[9.029e+00, 1.733e+01, 5.879e+01, ..., 1.750e-01, 4.228e-01,\n",
       "        1.175e-01],\n",
       "       [2.109e+01, 2.657e+01, 1.427e+02, ..., 2.903e-01, 4.098e-01,\n",
       "        1.284e-01],\n",
       "       [9.173e+00, 1.386e+01, 5.920e+01, ..., 5.087e-02, 3.282e-01,\n",
       "        8.490e-02],\n",
       "       ...,\n",
       "       [1.429e+01, 1.682e+01, 9.030e+01, ..., 3.333e-02, 2.458e-01,\n",
       "        6.120e-02],\n",
       "       [1.398e+01, 1.962e+01, 9.112e+01, ..., 1.827e-01, 3.179e-01,\n",
       "        1.055e-01],\n",
       "       [1.218e+01, 2.052e+01, 7.722e+01, ..., 7.431e-02, 2.694e-01,\n",
       "        6.878e-02]])"
      ]
     },
     "execution_count": 6,
     "metadata": {},
     "output_type": "execute_result"
    }
   ],
   "source": [
    "X_train"
   ]
  },
  {
   "cell_type": "code",
   "execution_count": 7,
   "id": "38d665c6",
   "metadata": {},
   "outputs": [
    {
     "data": {
      "text/plain": [
       "array([1, 0, 1, 1, 1, 0, 1, 1, 1, 0, 1, 0, 0, 1, 1, 0, 0, 0, 1, 1, 1, 0,\n",
       "       1, 1, 1, 0, 1, 0, 1, 1, 0, 1, 0, 0, 0, 1, 0, 1, 1, 1, 1, 0, 0, 1,\n",
       "       1, 1, 1, 1, 1, 1, 0, 1, 1, 1, 1, 0, 1, 1, 1, 1, 1, 1, 0, 1, 1, 1,\n",
       "       1, 1, 1, 0, 0, 0, 1, 1, 0, 1, 0, 1, 1, 1, 1, 0, 1, 1, 0, 1, 1, 1,\n",
       "       0, 1, 0, 0, 1, 1, 1, 0, 1, 1, 1, 1, 0, 1, 1, 1, 1, 1, 0, 1, 0, 0,\n",
       "       1, 1, 0, 1, 1, 1, 1, 1, 1, 1, 0, 0, 0, 1, 1, 0, 1, 1, 0, 1, 0, 1,\n",
       "       0, 1, 0, 1, 1, 0, 1, 1, 1, 0, 1, 0, 1, 0, 1, 0, 1, 1, 0, 1, 1, 1,\n",
       "       1, 0, 1, 1, 1, 0, 1, 1, 0, 1, 1, 0, 1, 1, 1, 1, 1, 1, 1, 0, 1, 1,\n",
       "       1, 0, 1, 0, 1, 1, 1, 0, 1, 0, 0, 1, 1, 0, 1, 0, 0, 0, 1, 1, 1, 0,\n",
       "       1, 1, 0, 1, 0, 1, 1, 1, 0, 1, 0, 1, 1, 0, 0, 1, 1, 0, 1, 0, 0, 1,\n",
       "       0, 0, 1, 1, 0, 0, 0, 1, 1, 1, 1, 0, 1, 0, 0, 0, 0, 1, 1, 1, 1, 1,\n",
       "       1, 1, 1, 0, 0, 1, 1, 0, 1, 1, 1, 1, 1, 0, 1, 1, 0, 0, 1, 0, 1, 0,\n",
       "       1, 1, 1, 1, 1, 1, 0, 1, 1, 0, 1, 1, 1, 1, 1, 1, 0, 1, 1, 0, 1, 0,\n",
       "       0, 0, 1, 0, 1, 1, 0, 0, 0, 1, 1, 1, 1, 1, 1, 1, 0, 1, 1, 1, 0, 1,\n",
       "       1, 0, 0, 1, 0, 1, 0, 0, 1, 1, 0, 1, 0, 0, 1, 0, 0, 1, 1, 0, 1, 0,\n",
       "       1, 1, 0, 1, 1, 0, 0, 0, 1, 1, 1, 0, 0, 1, 0, 0, 1, 1, 1, 0, 1, 0,\n",
       "       0, 0, 0, 1, 1, 0, 1, 1, 0, 0, 0, 0, 0, 0, 1, 1, 1, 1, 1, 1, 1, 0,\n",
       "       0, 0, 0, 1, 1, 1, 1, 0, 1, 0, 1, 1, 1, 1, 1, 0, 0, 0, 1, 1, 0, 1,\n",
       "       1, 0, 0, 0, 0, 1, 1, 0, 0, 1, 1, 1, 0, 0, 0, 1, 1, 0, 1, 1, 1, 1,\n",
       "       0, 1, 1, 1, 1, 1, 1, 1, 1, 1, 0, 1, 1, 1, 1, 1, 1, 0, 1, 1, 0, 1,\n",
       "       1, 0, 0, 0, 1, 0, 0, 1, 0, 1, 1, 1, 1, 0, 1])"
      ]
     },
     "execution_count": 7,
     "metadata": {},
     "output_type": "execute_result"
    }
   ],
   "source": [
    "Y_train"
   ]
  },
  {
   "cell_type": "markdown",
   "id": "expired-process",
   "metadata": {
    "colab_type": "text",
    "id": "l8jzwZUCPB_l"
   },
   "source": [
    "При использовании регуляризации данные необходимо нормализовать. Воспользуемся для этого классом `StandardScaler` из библиотеки `sklearn`. "
   ]
  },
  {
   "cell_type": "code",
   "execution_count": 8,
   "id": "backed-substance",
   "metadata": {
    "colab": {},
    "colab_type": "code",
    "id": "oNAqhHbZPBvb"
   },
   "outputs": [
    {
     "data": {
      "text/plain": [
       "array([[-1.44075296, -0.43531947, -1.36208497, ...,  0.9320124 ,\n",
       "         2.09724217,  1.88645014],\n",
       "       [ 1.97409619,  1.73302577,  2.09167167, ...,  2.6989469 ,\n",
       "         1.89116053,  2.49783848],\n",
       "       [-1.39998202, -1.24962228, -1.34520926, ..., -0.97023893,\n",
       "         0.59760192,  0.0578942 ],\n",
       "       ...,\n",
       "       [ 0.04880192, -0.55500086, -0.06512547, ..., -1.23903365,\n",
       "        -0.70863864, -1.27145475],\n",
       "       [-0.03896885,  0.10207345, -0.03137406, ...,  1.05001236,\n",
       "         0.43432185,  1.21336207],\n",
       "       [-0.54860557,  0.31327591, -0.60350155, ..., -0.61102866,\n",
       "        -0.3345212 , -0.84628745]])"
      ]
     },
     "execution_count": 8,
     "metadata": {},
     "output_type": "execute_result"
    }
   ],
   "source": [
    "scaler = StandardScaler()\n",
    "X_train = scaler.fit_transform(X_train)\n",
    "X_test = scaler.transform(X_test)\n",
    "X_train"
   ]
  },
  {
   "cell_type": "markdown",
   "id": "9a40272a",
   "metadata": {},
   "source": [
    "## Задание 2 из части 1\n",
    "\n",
    "Строим совместные распределения вещественных признаков и целевой переменной "
   ]
  },
  {
   "cell_type": "code",
   "execution_count": 9,
   "id": "f0e24ee5",
   "metadata": {},
   "outputs": [
    {
     "data": {
      "image/png": "[encoded data removed]",
      "text/plain": [
       "<Figure size 720x504 with 1 Axes>"
      ]
     },
     "metadata": {},
     "output_type": "display_data"
    }
   ],
   "source": [
    "plt.figure(figsize = (10, 7))\n",
    "plt.scatter(X_train[:, 0], X_train[:, 1], c = Y_train, cmap='Accent')\n",
    "plt.xlabel(dataset['feature_names'][0])\n",
    "plt.ylabel(dataset['feature_names'][1])\n",
    "plt.show()"
   ]
  },
  {
   "cell_type": "code",
   "execution_count": 10,
   "id": "f85cbf71",
   "metadata": {},
   "outputs": [
    {
     "data": {
      "image/png": "[encoded data removed]",
      "text/plain": [
       "<Figure size 720x504 with 1 Axes>"
      ]
     },
     "metadata": {},
     "output_type": "display_data"
    }
   ],
   "source": [
    "plt.figure(figsize = (10, 7))\n",
    "plt.scatter(X_train[:, 20], X_train[:, 25], c = Y_train, cmap='Accent')\n",
    "plt.xlabel(dataset['feature_names'][20])\n",
    "plt.ylabel(dataset['feature_names'][25])\n",
    "plt.show()"
   ]
  },
  {
   "cell_type": "code",
   "execution_count": 11,
   "id": "464abce5",
   "metadata": {},
   "outputs": [
    {
     "data": {
      "image/png": "[encoded data removed]",
      "text/plain": [
       "<Figure size 720x504 with 1 Axes>"
      ]
     },
     "metadata": {},
     "output_type": "display_data"
    }
   ],
   "source": [
    "plt.figure(figsize = (10, 7))\n",
    "plt.scatter(X_train[:, 7], X_train[:, 15], c = Y_train, cmap='Accent')\n",
    "plt.xlabel(dataset['feature_names'][7])\n",
    "plt.ylabel(dataset['feature_names'][15])\n",
    "plt.show()"
   ]
  },
  {
   "cell_type": "markdown",
   "id": "e94f55ac",
   "metadata": {},
   "source": [
    "Заметим, что везде (я строил много распределний, просто оставил три, чтобы не захламлять ноутбук) наша выборка не линейно разделима, но мы можем провести прямую, которая будет довольно неплохо разделять объекты на классы. Таким образом, скорее всего мы не сможем подогнаться как-то идеально с помощью линейной модели (хотя может в многомерии у нас там все и хорошо разделяется). Однако можно точно сказать, что какие бы два признака мы не взяли, мы не можем разделить объекты идеально с помощью прямой, поэтому будем пробовать обучать на всех данных. Там уже у нас все будет 30-тимерное, больше шанс, что сможем как-нибудь хорошо разделить гиперплоскостью."
   ]
  },
  {
   "cell_type": "markdown",
   "id": "healthy-break",
   "metadata": {},
   "source": [
    "Теперь обучите модель логистической регрессии."
   ]
  },
  {
   "cell_type": "code",
   "execution_count": 28,
   "id": "armed-trinidad",
   "metadata": {
    "colab": {},
    "colab_type": "code",
    "id": "6yZEZS1tnv1q"
   },
   "outputs": [
    {
     "data": {
      "text/plain": [
       "<__main__.LogisticRegression at 0x2389efe76d0>"
      ]
     },
     "execution_count": 28,
     "metadata": {},
     "output_type": "execute_result"
    }
   ],
   "source": [
    "clf = LogisticRegression()\n",
    "clf.fit(X_train, Y_train)"
   ]
  },
  {
   "cell_type": "markdown",
   "id": "modified-guidance",
   "metadata": {},
   "source": [
    "На занятии обсуждали, что в нашей постановке задачи при сравнении выиграет модель с меньшим FN, ведь каждая не обнаруженная опухоль может стоить человеческой жизни. Чем меньше ложно отрицательных срабатываний, тем выше Recall модели, а значит разумно взять Recall в качестве целевой метрики. \n",
    "\n",
    "Построить модель с Recall = 1 довольно просто (Как?), но в ней не будет большого смысла, т.к., например, для нашей задачи отправление на доп. обследование может стоить дополнительных средств и времени специалистов, поэтому хотелось, чтобы наша модель имела неплохую точность. Какую метрику можно использовать, чтобы учесть и точность, и полноту?\n",
    "\n",
    "**Построить модель с Recall = 1 можно так: просто всем объектам присвоим класс 1, тогда FN = 0 и Recall = TP / TP = 1**\n",
    "\n",
    "**Чтобы учесть и точность, и полноту, надо смотреть на F меру**\n",
    "\n",
    "Выберите и посчитайте целевые метрики для нашей задачи."
   ]
  },
  {
   "cell_type": "code",
   "execution_count": 15,
   "id": "d0ede970",
   "metadata": {},
   "outputs": [],
   "source": [
    "from sklearn.metrics import (\n",
    "    accuracy_score, precision_score, recall_score, f1_score, roc_auc_score,\n",
    "    confusion_matrix, fbeta_score, roc_curve, precision_recall_curve, auc, \n",
    "    average_precision_score\n",
    ")"
   ]
  },
  {
   "cell_type": "code",
   "execution_count": 16,
   "id": "06dc354a",
   "metadata": {},
   "outputs": [
    {
     "name": "stdout",
     "output_type": "stream",
     "text": [
      "Accuracy: 0.921\n"
     ]
    }
   ],
   "source": [
    "accuracy = accuracy_score(Y_test, clf.predict(X_test))\n",
    "print(f'Accuracy: {accuracy:.3f}')"
   ]
  },
  {
   "cell_type": "code",
   "execution_count": 17,
   "id": "sweet-excerpt",
   "metadata": {},
   "outputs": [
    {
     "name": "stdout",
     "output_type": "stream",
     "text": [
      "Precision = 0.970\n"
     ]
    }
   ],
   "source": [
    "precision = precision_score(Y_test, clf.predict(X_test))\n",
    "print(f'Precision = {precision:.3f}')"
   ]
  },
  {
   "cell_type": "code",
   "execution_count": 18,
   "id": "eba54128",
   "metadata": {},
   "outputs": [],
   "source": [
    "# То есть если мы видим положительный класс, то с вероятностью 0.97 есть рак"
   ]
  },
  {
   "cell_type": "code",
   "execution_count": 19,
   "id": "043bca0b",
   "metadata": {},
   "outputs": [
    {
     "name": "stdout",
     "output_type": "stream",
     "text": [
      "Recall = 0.901\n"
     ]
    }
   ],
   "source": [
    "recall = recall_score(Y_test, clf.predict(X_test))\n",
    "print(f'Recall = {recall:.3f}')"
   ]
  },
  {
   "cell_type": "code",
   "execution_count": 20,
   "id": "7168077b",
   "metadata": {},
   "outputs": [],
   "source": [
    "# То есть из всех больных раком мы обнаружим 90%"
   ]
  },
  {
   "cell_type": "code",
   "execution_count": 21,
   "id": "35096ed0",
   "metadata": {},
   "outputs": [
    {
     "name": "stdout",
     "output_type": "stream",
     "text": [
      "F1 = 0.934\n"
     ]
    }
   ],
   "source": [
    "f1 = f1_score(Y_test, clf.predict(X_test))\n",
    "print(f'F1 = {f1:.3f}')"
   ]
  },
  {
   "cell_type": "code",
   "execution_count": 29,
   "id": "d7bfdba9",
   "metadata": {},
   "outputs": [
    {
     "name": "stdout",
     "output_type": "stream",
     "text": [
      "FBeta-score (beta=2): 0.908\n"
     ]
    }
   ],
   "source": [
    "# Посмотрим еще на F_beta с beta = 3 (то есть нам важнее recall)\n",
    "fbeta = fbeta_score(Y_test, clf.predict(X_test), beta=3)\n",
    "print(f'FBeta-score (beta=2): {fbeta:.3f}')"
   ]
  },
  {
   "cell_type": "markdown",
   "id": "effective-palestinian",
   "metadata": {
    "colab_type": "text",
    "id": "mE0rZ7vPCH_S"
   },
   "source": [
    "Рассмотрите как влияет размер шага (`learning rate`) на качество модели. Обучите каждую модель одинаковое число итераций (например, 10000), а затем посчитайте качество. Сделайте выводы."
   ]
  },
  {
   "cell_type": "markdown",
   "id": "7eadba9b",
   "metadata": {},
   "source": [
    "Будем смотреть на F_beta для beta = 3"
   ]
  },
  {
   "cell_type": "code",
   "execution_count": 23,
   "id": "automotive-partner",
   "metadata": {
    "colab": {},
    "colab_type": "code",
    "id": "UL0NzUTDbuxW"
   },
   "outputs": [],
   "source": [
    "lrs = [1e-5, 1e-4, 1e-3, 1e-2, 0.1, 0.2, 0.3, 0.5, 0.7, 1, 2, 5, 10]"
   ]
  },
  {
   "cell_type": "code",
   "execution_count": 24,
   "id": "cooked-spring",
   "metadata": {},
   "outputs": [
    {
     "data": {
      "text/plain": [
       "[0.20289855072463767,\n",
       " 0.7417974322396576,\n",
       " 0.9322033898305084,\n",
       " 0.9985935302390998,\n",
       " 0.9859154929577466,\n",
       " 0.9732016925246826,\n",
       " 0.9732016925246826,\n",
       " 0.9732016925246826,\n",
       " 0.9732016925246826,\n",
       " 0.9590973201692524,\n",
       " 0.9335219236209336,\n",
       " 0.9078014184397164,\n",
       " 0.9078014184397164]"
      ]
     },
     "execution_count": 24,
     "metadata": {},
     "output_type": "execute_result"
    }
   ],
   "source": [
    "scores = []\n",
    "for lr in lrs:\n",
    "    clf = LogisticRegression(lr = lr, max_iter = 10000)\n",
    "    clf.fit(X_train, Y_train)\n",
    "    fbeta = fbeta_score(Y_test, clf.predict(X_test), beta=3)\n",
    "    scores.append(fbeta)\n",
    "scores"
   ]
  },
  {
   "cell_type": "markdown",
   "id": "686240c1",
   "metadata": {},
   "source": [
    "Лучшее качество при lr = 1e-2. Так происходит, так как при маленьком шаге мы не успеваем сойтись, а при больших шагах мы не можем прийти точно в минимум, так как в конце мы все время через него перепрыгиваем."
   ]
  },
  {
   "cell_type": "markdown",
   "id": "generic-madness",
   "metadata": {
    "colab_type": "text",
    "id": "UQy0zIrcClfm"
   },
   "source": [
    "Рассмотрите несколько моделей, в которых установите не менее 5-ти различных коэффициентов регуляризации, а также модель без регуляризатора. Сравните, влияет ли наличие регуляризации на качество, сделайте выводы. Под качеством подразумевается значение какой-либо выбранной вами метрики качества классификации."
   ]
  },
  {
   "cell_type": "code",
   "execution_count": 32,
   "id": "convertible-edmonton",
   "metadata": {},
   "outputs": [
    {
     "data": {
      "text/plain": [
       "[0.9845288326300984,\n",
       " 0.9732016925246826,\n",
       " 0.9732016925246826,\n",
       " 0.9718309859154931,\n",
       " 0.9718309859154931]"
      ]
     },
     "execution_count": 32,
     "metadata": {},
     "output_type": "execute_result"
    }
   ],
   "source": [
    "alphas = [0, 1, 3, 5, 10]\n",
    "scores = []\n",
    "for a in alphas:\n",
    "    clf = LogisticRegression(lr = 1e-2, alpha = a)\n",
    "    clf.fit(X_train, Y_train)\n",
    "    fbeta = fbeta_score(Y_test, clf.predict(X_test), beta=3)\n",
    "    scores.append(fbeta)\n",
    "scores"
   ]
  },
  {
   "cell_type": "markdown",
   "id": "ca9c746e",
   "metadata": {},
   "source": [
    "Видим, что регуляризация не сильно влияет на качестве, но при этом даже в отрицательную сторону. То есть чем выше мы выставляем alpha, тем меньше score. Видимо, переобучения особо нет, коэффициенты не слишком большие и регуляризовать особо нечего. Возможно, нам повезло с разделением на тест и трейн, они получились похожими."
   ]
  },
  {
   "cell_type": "markdown",
   "id": "coordinate-expense",
   "metadata": {},
   "source": [
    "Выберите объект из тестовой выборки и постройте для него доверительный интервал для предсказания вероятности. Какие условия нужно проверить? "
   ]
  },
  {
   "cell_type": "code",
   "execution_count": 66,
   "id": "assisted-rouge",
   "metadata": {},
   "outputs": [
    {
     "data": {
      "text/plain": [
       "<__main__.LogisticRegression at 0x2389f2dd4c0>"
      ]
     },
     "execution_count": 66,
     "metadata": {},
     "output_type": "execute_result"
    }
   ],
   "source": [
    "clf = LogisticRegression(lr = 1e-2, alpha = 0)\n",
    "clf.fit(X_train, Y_train)"
   ]
  },
  {
   "cell_type": "code",
   "execution_count": 94,
   "id": "4d65ca52",
   "metadata": {},
   "outputs": [
    {
     "data": {
      "text/plain": [
       "array([7.67435759e-09, 9.99999992e-01])"
      ]
     },
     "execution_count": 94,
     "metadata": {},
     "output_type": "execute_result"
    }
   ],
   "source": [
    "clf.predict_proba(X_test)[1]"
   ]
  },
  {
   "cell_type": "code",
   "execution_count": 95,
   "id": "5e62bdf6",
   "metadata": {},
   "outputs": [
    {
     "data": {
      "text/plain": [
       "0.0"
      ]
     },
     "execution_count": 95,
     "metadata": {},
     "output_type": "execute_result"
    }
   ],
   "source": [
    "clf.predict(X_test)[1]"
   ]
  },
  {
   "cell_type": "markdown",
   "id": "307cca9b",
   "metadata": {},
   "source": [
    "То есть мы взяли второй объект, и для него вероятность, что он принадлежит классу 0 почти 100%"
   ]
  },
  {
   "cell_type": "markdown",
   "id": "cc80342a",
   "metadata": {},
   "source": [
    "На лекции было, что для использования хороших свойств и построения доверительных интервалов нужно, чтобы логит был линеен (Строим ядерную регрессию и берем от нее логит. Приближение логита должно быть похоже на линию)\n",
    "Ну тут есть небольшая проблема - у нас не два признака, поэтому глазами не посмотришь."
   ]
  },
  {
   "cell_type": "markdown",
   "id": "26d949d2",
   "metadata": {},
   "source": [
    "Линеаризация ожидаемого отклика $g(z) = ln \\frac{z}{1-z}$, то есть $g^{-1}(z) = \\frac{e^{-z}}{1+e^{-z}}$"
   ]
  },
  {
   "cell_type": "code",
   "execution_count": 51,
   "id": "ba2a55c4",
   "metadata": {},
   "outputs": [],
   "source": [
    "def g_inverse(z):\n",
    "    return np.e ** (-z) / (1 + np.e ** (-z))"
   ]
  },
  {
   "cell_type": "markdown",
   "id": "28fa75ac",
   "metadata": {},
   "source": [
    "Информационная матрица Фишера I для логистической регресии:"
   ]
  },
  {
   "cell_type": "code",
   "execution_count": 40,
   "id": "32d6d9b2",
   "metadata": {},
   "outputs": [
    {
     "data": {
      "text/plain": [
       "(455,)"
      ]
     },
     "execution_count": 40,
     "metadata": {},
     "output_type": "execute_result"
    }
   ],
   "source": [
    "(X_train @ clf.coef_.T + clf.intercept_).shape"
   ]
  },
  {
   "cell_type": "code",
   "execution_count": 42,
   "id": "ba388a70",
   "metadata": {},
   "outputs": [],
   "source": [
    "import scipy"
   ]
  },
  {
   "cell_type": "code",
   "execution_count": 63,
   "id": "7094c72e",
   "metadata": {},
   "outputs": [],
   "source": [
    "I = X_train.T @ np.diag(scipy.special.expit(X_train @ clf.coef_.T + clf.intercept_) * \n",
    "                        (1 - scipy.special.expit(X_train @ clf.coef_.T + clf.intercept_))) @ X_train"
   ]
  },
  {
   "cell_type": "code",
   "execution_count": 45,
   "id": "d5a2b339",
   "metadata": {},
   "outputs": [
    {
     "data": {
      "text/plain": [
       "(30, 30)"
      ]
     },
     "execution_count": 45,
     "metadata": {},
     "output_type": "execute_result"
    }
   ],
   "source": [
    "I.shape"
   ]
  },
  {
   "cell_type": "markdown",
   "id": "e8b992a5",
   "metadata": {},
   "source": [
    "Для нормального распределения вероятность попадания x в интервал $[\\mu - 2\\sigma, \\mu + 2\\sigma]$ равна 95%. У нас $\\mu = 0, \\sigma = 1$, следовательно итервал $[-2,2]$. Для $\\alpha = 95$% имеем квантиль 1,645 (из таблиц)"
   ]
  },
  {
   "cell_type": "code",
   "execution_count": 109,
   "id": "cf603228",
   "metadata": {},
   "outputs": [
    {
     "data": {
      "text/plain": [
       "19.554301414501275"
      ]
     },
     "execution_count": 109,
     "metadata": {},
     "output_type": "execute_result"
    }
   ],
   "source": [
    "# Тогда delta из лекций равна:\n",
    "d = 1.645 * np.sqrt(X_test[1] @ (I ** (-1)) @ X_test[1].T)\n",
    "d"
   ]
  },
  {
   "cell_type": "code",
   "execution_count": 110,
   "id": "ed982b63",
   "metadata": {},
   "outputs": [],
   "source": [
    "# Тогда доверительный интервал:\n",
    "left = g_inverse(X_test[1] @ clf.coef_.T + clf.intercept_ + d)\n",
    "right = g_inverse(X_test[1] @ clf.coef_.T + clf.intercept_ - d)"
   ]
  },
  {
   "cell_type": "code",
   "execution_count": 111,
   "id": "a2f3467b",
   "metadata": {},
   "outputs": [
    {
     "name": "stdout",
     "output_type": "stream",
     "text": [
      "[0.29547904110726014, 1.0]\n"
     ]
    }
   ],
   "source": [
    "print(\"[\" + str(left) + \", \" + str(right) + \"]\")"
   ]
  },
  {
   "cell_type": "code",
   "execution_count": null,
   "id": "058c2fb0",
   "metadata": {},
   "outputs": [],
   "source": [
    "# Вот такой интервал вышел"
   ]
  }
 ],
 "metadata": {
  "kernelspec": {
   "display_name": "Python 3 (ipykernel)",
   "language": "python",
   "name": "python3"
  },
  "language_info": {
   "codemirror_mode": {
    "name": "ipython",
    "version": 3
   },
   "file_extension": ".py",
   "mimetype": "text/x-python",
   "name": "python",
   "nbconvert_exporter": "python",
   "pygments_lexer": "ipython3",
   "version": "3.9.7"
  },
  "varInspector": {
   "cols": {
    "lenName": 16,
    "lenType": 16,
    "lenVar": 40
   },
   "kernels_config": {
    "python": {
     "delete_cmd_postfix": "",
     "delete_cmd_prefix": "del ",
     "library": "var_list.py",
     "varRefreshCmd": "print(var_dic_list())"
    },
    "r": {
     "delete_cmd_postfix": ") ",
     "delete_cmd_prefix": "rm(",
     "library": "var_list.r",
     "varRefreshCmd": "cat(var_dic_list()) "
    }
   },
   "types_to_exclude": [
    "module",
    "function",
    "builtin_function_or_method",
    "instance",
    "_Feature"
   ],
   "window_display": false
  }
 },
 "nbformat": 4,
 "nbformat_minor": 5
}
